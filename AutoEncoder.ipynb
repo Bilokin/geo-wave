{
 "cells": [
  {
   "cell_type": "code",
   "execution_count": 1,
   "id": "8c0bc331-90e5-48c5-b2ea-042951ba22a5",
   "metadata": {},
   "outputs": [],
   "source": [
    "import numpy as np\n",
    "import matplotlib.pyplot as plt\n",
    "import torch\n",
    "from torch import nn, optim\n",
    "\n",
    "from torchvision import datasets, transforms\n",
    "import matplotlib.pyplot as plt\n",
    "import tqdm"
   ]
  },
  {
   "cell_type": "code",
   "execution_count": 2,
   "id": "868dfa36-e4cd-4005-9f68-a278ef8ecf47",
   "metadata": {},
   "outputs": [],
   "source": [
    "target_raw_1 = np.load('vel2_1_0.npy')\n",
    "target_raw_2 = np.load('vel4_1_0.npy')\n",
    "target_raw_3 = np.load('vel6_1_0.npy')\n",
    "target_raw_4 = np.load('vel8_1_0.npy')\n",
    "target_raw = np.concatenate([target_raw_1, target_raw_2, target_raw_3, target_raw_4], axis=0).reshape((-1,70,70))\n",
    "target_scaled = (target_raw - target_raw.min())/(target_raw.max() - target_raw.min())"
   ]
  },
  {
   "cell_type": "code",
   "execution_count": 3,
   "id": "f4b97d08-bec7-419a-851a-087c36c01c47",
   "metadata": {},
   "outputs": [
    {
     "data": {
      "image/png": "[encoded data removed]",
      "text/plain": [
       "<Figure size 640x480 with 1 Axes>"
      ]
     },
     "metadata": {},
     "output_type": "display_data"
    }
   ],
   "source": [
    "plt.hist(target_scaled.flatten(), bins=100);"
   ]
  },
  {
   "cell_type": "code",
   "execution_count": 4,
   "id": "c58c4fcc-eedd-42fd-bb7d-4ae7cb4e9461",
   "metadata": {},
   "outputs": [],
   "source": [
    "class AE(nn.Module):\n",
    "    def __init__(self):\n",
    "        super(AE, self).__init__()\n",
    "        self.encoder = nn.Sequential(\n",
    "            nn.Linear(70 * 70, 2048),\n",
    "            #nn.BatchNorm1d(512),\n",
    "            nn.ReLU(),\n",
    "            nn.Linear(2048, 1024),\n",
    "            nn.ReLU(),\n",
    "            nn.Linear(1024, 512),\n",
    "            nn.ReLU(),\n",
    "            nn.Linear(512, 256),\n",
    "            nn.ReLU(),\n",
    "            nn.Linear(256, 128),\n",
    "            #nn.ReLU(),\n",
    "            #nn.Linear(128, 64)\n",
    "        )\n",
    "        self.decoder = nn.Sequential(\n",
    "            #nn.Linear(64, 128),\n",
    "            #nn.ReLU(),\n",
    "            nn.Linear(128, 256),\n",
    "            nn.ReLU(),\n",
    "            nn.Linear(256, 512),\n",
    "            nn.ReLU(),\n",
    "            nn.Linear(512, 1024),\n",
    "            nn.ReLU(),\n",
    "            nn.Linear(1024, 2048),\n",
    "            nn.ReLU(),\n",
    "            nn.Linear(2048, 70 * 70),\n",
    "            nn.Sigmoid()\n",
    "        )\n",
    "\n",
    "    def forward(self, x):\n",
    "        encoded = self.encoder(x)\n",
    "        decoded = self.decoder(encoded)\n",
    "        return decoded"
   ]
  },
  {
   "cell_type": "code",
   "execution_count": 5,
   "id": "80885e45-0be3-48d8-bb9a-bc33b30b515c",
   "metadata": {},
   "outputs": [],
   "source": [
    "class Encoder(nn.Module):\n",
    "    def __init__(self):\n",
    "        super(Encoder, self).__init__()\n",
    "        self.encoder = nn.Sequential(\n",
    "            nn.Conv2d(1, 32, kernel_size=3, stride=1, padding=1),\n",
    "            nn.ReLU(),\n",
    "            #nn.MaxPool2d(kernel_size=2, stride=2),\n",
    "            nn.Conv2d(32, 64, kernel_size=3, stride=1, padding=1),\n",
    "            nn.ReLU(),\n",
    "            #nn.MaxPool2d(kernel_size=2, stride=2),\n",
    "            nn.Conv2d(64, 128, kernel_size=3, stride=1, padding=1),\n",
    "            nn.ReLU(),\n",
    "            #nn.MaxPool2d(kernel_size=2, stride=2)\n",
    "        )\n",
    "\n",
    "    def forward(self, x):\n",
    "        x = self.encoder(x)\n",
    "        return x\n",
    "\n",
    "        \n",
    "class Decoder(nn.Module):\n",
    "    def __init__(self):\n",
    "        super(Decoder, self).__init__()\n",
    "        self.decoder = nn.Sequential(\n",
    "            nn.ConvTranspose2d(128, 64, kernel_size=3, stride=1, padding=1),\n",
    "            nn.ReLU(),\n",
    "            #nn.Conv2d(64, 64, kernel_size=3, stride=1, padding=1),\n",
    "            #nn.ReLU(),\n",
    "            nn.ConvTranspose2d(64, 32, kernel_size=3, stride=1, padding=1),\n",
    "            nn.ReLU(),\n",
    "            #nn.Conv2d(32, 32, kernel_size=3, stride=1, padding=1),\n",
    "            #nn.ReLU(),\n",
    "            nn.ConvTranspose2d(32, 1, kernel_size=3, stride=1, padding=1),\n",
    "            #nn.ReLU(),\n",
    "            #nn.Conv2d(32, 32, kernel_size=3, stride=1, padding=1),\n",
    "            #nn.ReLU(),\n",
    "            #nn.Conv2d(32, 1, kernel_size=3, stride=1, padding=1),\n",
    "            nn.Sigmoid()\n",
    "        )\n",
    "\n",
    "    def forward(self, x):\n",
    "        x = self.decoder(x)\n",
    "        return x\n",
    "\n",
    "\n",
    "class Autoencoder(nn.Module):\n",
    "    def __init__(self):\n",
    "        super(Autoencoder, self).__init__()\n",
    "        self.encoder = Encoder()\n",
    "        self.decoder = Decoder()\n",
    "\n",
    "    def forward(self, x):\n",
    "        x = self.encoder(x)\n",
    "        x = self.decoder(x)\n",
    "        return x\n"
   ]
  },
  {
   "cell_type": "code",
   "execution_count": 6,
   "id": "13e16afd-ced3-4052-9bf8-7c1712b6aec6",
   "metadata": {},
   "outputs": [],
   "source": [
    "class CNNAutoencoder(nn.Module):\n",
    "    def __init__(self, latent_dim=64):\n",
    "        super(CNNAutoencoder, self).__init__()\n",
    "        \n",
    "        # Encoder\n",
    "        k1 = 4\n",
    "        k2 = 8\n",
    "        k3 = 16\n",
    "        k4 = 32\n",
    "        self.encoder = nn.Sequential(\n",
    "            # First convolutional block\n",
    "            nn.Conv2d(1, k1, kernel_size=3, stride=2, padding=1),  # 70x70 -> 35x35\n",
    "            nn.BatchNorm2d(k1),\n",
    "            nn.ReLU(True),\n",
    "            \n",
    "            # Second convolutional block\n",
    "            nn.Conv2d(k1, k2, kernel_size=3, stride=2, padding=1),  # 35x35 -> 18x18\n",
    "            nn.BatchNorm2d(k2),\n",
    "            nn.ReLU(True),\n",
    "            \n",
    "            # Third convolutional block\n",
    "            nn.Conv2d(k2, k3, kernel_size=3, stride=2, padding=1),  # 18x18 -> 9x9\n",
    "            nn.BatchNorm2d(k3),\n",
    "            nn.ReLU(True),\n",
    "            \n",
    "            # Final encoding layer\n",
    "            nn.Conv2d(k3, k4, kernel_size=3, stride=1, padding=1),  # 9x9 -> 9x9\n",
    "            nn.BatchNorm2d(k4),\n",
    "            nn.ReLU(True),\n",
    "\n",
    "            nn.Flatten(),\n",
    "            \n",
    "            nn.Linear(k4*9*9, latent_dim),\n",
    "            #nn.BatchNorm1d(latent_dim),\n",
    "            nn.ReLU(True),\n",
    "        )\n",
    "        \n",
    "        # Decoder\n",
    "        self.decoder = nn.Sequential(\n",
    "            nn.Linear(latent_dim, k4*9*9),\n",
    "            #nn.BatchNorm1d(k4*9*9),\n",
    "            nn.ReLU(True),\n",
    "            \n",
    "            nn.Unflatten(1, (k4,9,9)),\n",
    "            \n",
    "            # First transposed conv block\n",
    "            nn.ConvTranspose2d(k4, k3, kernel_size=3, stride=1, padding=1),  # 9x9 -> 9x9\n",
    "            nn.BatchNorm2d(k3),\n",
    "            nn.ReLU(True),\n",
    "            \n",
    "            # Second transposed conv block\n",
    "            nn.ConvTranspose2d(k3, k2, kernel_size=3, stride=2, padding=1, output_padding=1),  # 9x9 -> 18x18\n",
    "            nn.BatchNorm2d(k2),\n",
    "            nn.ReLU(True),\n",
    "            \n",
    "            # Third transposed conv block\n",
    "            nn.ConvTranspose2d(k2, k1, kernel_size=3, stride=2, padding=1),  # 18x18 -> 35x35\n",
    "            nn.BatchNorm2d(k1),\n",
    "            nn.ReLU(True),\n",
    "            \n",
    "            # Final transposed conv block\n",
    "            nn.ConvTranspose2d(k1, 1, kernel_size=3, stride=2, padding=1, output_padding=1),  # 35x35 -> 70x70\n",
    "            nn.Sigmoid()  # Ensures output is between 0 and 1\n",
    "        )\n",
    "        \n",
    "    def forward(self, x):\n",
    "        x = self.encoder(x)\n",
    "        x = self.decoder(x)\n",
    "        return x\n",
    "    \n",
    "    def encode(self, x):\n",
    "        return self.encoder(x)\n",
    "    \n",
    "    def decode(self, x):\n",
    "        return self.decoder(x)\n"
   ]
  },
  {
   "cell_type": "code",
   "execution_count": 67,
   "id": "d33587e8-3fa0-4f9b-abd0-edd7fa699882",
   "metadata": {},
   "outputs": [
    {
     "name": "stdout",
     "output_type": "stream",
     "text": [
      "Verifying network dimensions...\n",
      "Encoder layer 0 (Conv2d): output shape = torch.Size([1, 4, 35, 35])\n",
      "Encoder layer 1 (BatchNorm2d): output shape = torch.Size([1, 4, 35, 35])\n",
      "Encoder layer 2 (ReLU): output shape = torch.Size([1, 4, 35, 35])\n",
      "Encoder layer 3 (Conv2d): output shape = torch.Size([1, 8, 18, 18])\n",
      "Encoder layer 4 (BatchNorm2d): output shape = torch.Size([1, 8, 18, 18])\n",
      "Encoder layer 5 (ReLU): output shape = torch.Size([1, 8, 18, 18])\n",
      "Encoder layer 6 (Conv2d): output shape = torch.Size([1, 16, 9, 9])\n",
      "Encoder layer 7 (BatchNorm2d): output shape = torch.Size([1, 16, 9, 9])\n",
      "Encoder layer 8 (ReLU): output shape = torch.Size([1, 16, 9, 9])\n",
      "Encoder layer 9 (Conv2d): output shape = torch.Size([1, 32, 9, 9])\n",
      "Encoder layer 10 (BatchNorm2d): output shape = torch.Size([1, 32, 9, 9])\n",
      "Encoder layer 11 (ReLU): output shape = torch.Size([1, 32, 9, 9])\n",
      "Encoder layer 12 (Flatten): output shape = torch.Size([1, 2592])\n",
      "Encoder layer 13 (Linear): output shape = torch.Size([1, 64])\n",
      "Encoder layer 14 (ReLU): output shape = torch.Size([1, 64])\n",
      "Decoder layer 0 (Linear): output shape = torch.Size([1, 2592])\n",
      "Decoder layer 1 (ReLU): output shape = torch.Size([1, 2592])\n",
      "Decoder layer 2 (Unflatten): output shape = torch.Size([1, 32, 9, 9])\n",
      "Decoder layer 3 (ConvTranspose2d): output shape = torch.Size([1, 16, 9, 9])\n",
      "Decoder layer 4 (BatchNorm2d): output shape = torch.Size([1, 16, 9, 9])\n",
      "Decoder layer 5 (ReLU): output shape = torch.Size([1, 16, 9, 9])\n",
      "Decoder layer 6 (ConvTranspose2d): output shape = torch.Size([1, 8, 18, 18])\n",
      "Decoder layer 7 (BatchNorm2d): output shape = torch.Size([1, 8, 18, 18])\n",
      "Decoder layer 8 (ReLU): output shape = torch.Size([1, 8, 18, 18])\n",
      "Decoder layer 9 (ConvTranspose2d): output shape = torch.Size([1, 4, 35, 35])\n",
      "Decoder layer 10 (BatchNorm2d): output shape = torch.Size([1, 4, 35, 35])\n",
      "Decoder layer 11 (ReLU): output shape = torch.Size([1, 4, 35, 35])\n",
      "Decoder layer 12 (ConvTranspose2d): output shape = torch.Size([1, 1, 70, 70])\n",
      "Decoder layer 13 (Sigmoid): output shape = torch.Size([1, 1, 70, 70])\n",
      "Success! Output dimensions match input dimensions (70x70)\n"
     ]
    }
   ],
   "source": [
    "model = CNNAutoencoder(latent_dim=64)\n",
    "loss_function = nn.MSELoss()\n",
    "loss_function = nn.BCELoss()\n",
    "optimizer = optim.Adam(model.parameters(), lr=1e-3, weight_decay=1e-8)\n",
    "def verify_dimensions(model):\n",
    "    print(\"Verifying network dimensions...\")\n",
    "    x = torch.randn(1, 1, 70, 70)\n",
    "    \n",
    "    # Check encoder dimensions\n",
    "    for i, layer in enumerate(model.encoder):\n",
    "        x = layer(x)\n",
    "        print(f\"Encoder layer {i} ({layer.__class__.__name__}): output shape = {x.shape}\")\n",
    "    \n",
    "    # Check decoder dimensions\n",
    "    for i, layer in enumerate(model.decoder):\n",
    "        x = layer(x)\n",
    "        print(f\"Decoder layer {i} ({layer.__class__.__name__}): output shape = {x.shape}\")\n",
    "    \n",
    "    if x.shape[2] == 70 and x.shape[3] == 70:\n",
    "        print(\"Success! Output dimensions match input dimensions (70x70)\")\n",
    "    else:\n",
    "        print(f\"Error: Output dimensions {x.shape[2]}x{x.shape[3]} don't match expected 70x70\")\n",
    "\n",
    "verify_dimensions(model)"
   ]
  },
  {
   "cell_type": "code",
   "execution_count": 68,
   "id": "c57f38d8-1c65-4ed4-9c08-3bcfbedbcebb",
   "metadata": {},
   "outputs": [
    {
     "name": "stderr",
     "output_type": "stream",
     "text": [
      "100%|████████████████████████████████████████████████████████████████████████████████| 500/500 [00:22<00:00, 22.43it/s]\n"
     ]
    },
    {
     "data": {
      "image/png": "[encoded data removed]",
      "text/plain": [
       "<Figure size 800x500 with 1 Axes>"
      ]
     },
     "metadata": {},
     "output_type": "display_data"
    }
   ],
   "source": [
    "epochs = 500\n",
    "outputs = []\n",
    "losses = []\n",
    "batch_size = 1024\n",
    "device = torch.device(\"cuda\" if torch.cuda.is_available() else \"cpu\")\n",
    "model.to(device)\n",
    "\n",
    "for epoch in tqdm.tqdm(range(epochs)):\n",
    "    #for entry in target_scaled[0:700]:\n",
    "    for i in range(0, int(len(target_scaled)*0.9), batch_size):\n",
    "        entry = target_scaled[i:i+batch_size]\n",
    "        tensor = torch.Tensor(entry.reshape(-1, 1, 70,70)).to(device)\n",
    "        reconstructed = model(tensor)\n",
    "        #print(reconstructed.shape)\n",
    "        loss = loss_function(reconstructed, tensor)\n",
    "        \n",
    "        optimizer.zero_grad()\n",
    "        loss.backward()\n",
    "        optimizer.step()\n",
    "        \n",
    "        losses.append(loss.item())\n",
    "    \n",
    "    outputs.append((epoch, entry, reconstructed))\n",
    "    #print(f\"Epoch {epoch+1}/{epochs}, Loss: {loss.item():.6f}\")\n",
    "\n",
    "#plt.style.use('fivethirtyeight')\n",
    "plt.figure(figsize=(8, 5))\n",
    "plt.plot(losses, label='Loss')\n",
    "plt.xlabel('Iterations')\n",
    "plt.ylabel('Loss')\n",
    "plt.legend()\n",
    "plt.show()"
   ]
  },
  {
   "cell_type": "code",
   "execution_count": 69,
   "id": "26183f71-3413-4cba-ae1c-1f4f2ed449d7",
   "metadata": {},
   "outputs": [
    {
     "name": "stdout",
     "output_type": "stream",
     "text": [
      "torch.Size([1, 1, 70, 70])\n"
     ]
    },
    {
     "data": {
      "text/plain": [
       "<matplotlib.image.AxesImage at 0x20b0ae0a0f0>"
      ]
     },
     "execution_count": 69,
     "metadata": {},
     "output_type": "execute_result"
    },
    {
     "data": {
      "image/png": "[encoded data removed]",
      "text/plain": [
       "<Figure size 1000x500 with 2 Axes>"
      ]
     },
     "metadata": {},
     "output_type": "display_data"
    }
   ],
   "source": [
    "i = 1013\n",
    "tensor = torch.Tensor(target_scaled[i].reshape(1, 1, 70,70)).to(device)\n",
    "print(tensor.shape)\n",
    "entry = model(tensor).detach().cpu().numpy()\n",
    "\n",
    "fig, axs = plt.subplots(1,2, figsize=(10,5))\n",
    "axs[1].imshow(target_scaled[i])\n",
    "axs[0].imshow(entry.reshape(70,70))"
   ]
  },
  {
   "cell_type": "code",
   "execution_count": 70,
   "id": "b7a508ee-f74a-4457-906e-e5877bdf820e",
   "metadata": {},
   "outputs": [
    {
     "data": {
      "text/plain": [
       "array([[0.096     , 0.096     , 0.096     , ..., 0.07566667, 0.07566667,\n",
       "        0.07566667],\n",
       "       [0.096     , 0.096     , 0.096     , ..., 0.07566667, 0.07566667,\n",
       "        0.07566667],\n",
       "       [0.096     , 0.096     , 0.096     , ..., 0.07566667, 0.07566667,\n",
       "        0.07566667],\n",
       "       ...,\n",
       "       [0.834     , 0.834     , 0.834     , ..., 0.84833336, 0.84833336,\n",
       "        0.84833336],\n",
       "       [0.834     , 0.834     , 0.834     , ..., 0.84966666, 0.84966666,\n",
       "        0.84966666],\n",
       "       [0.834     , 0.834     , 0.834     , ..., 0.8613333 , 0.8613333 ,\n",
       "        0.8613333 ]], dtype=float32)"
      ]
     },
     "execution_count": 70,
     "metadata": {},
     "output_type": "execute_result"
    }
   ],
   "source": [
    "target_scaled[i]"
   ]
  },
  {
   "cell_type": "code",
   "execution_count": 71,
   "id": "945ba08d-25ae-4440-8766-1a70591b5a5b",
   "metadata": {},
   "outputs": [
    {
     "data": {
      "text/plain": [
       "array([[0.09757799, 0.0928267 , 0.08943354, ..., 0.08239056, 0.06467959,\n",
       "        0.16969432],\n",
       "       [0.10067733, 0.1000742 , 0.09307847, ..., 0.08312748, 0.0687298 ,\n",
       "        0.17692353],\n",
       "       [0.10246633, 0.09239208, 0.09235354, ..., 0.09229839, 0.07500332,\n",
       "        0.17679213],\n",
       "       ...,\n",
       "       [0.957949  , 0.954145  , 0.9502295 , ..., 0.86879855, 0.8854319 ,\n",
       "        0.7712052 ],\n",
       "       [0.95689166, 0.97526985, 0.96535337, ..., 0.8957366 , 0.8809172 ,\n",
       "        0.7352912 ],\n",
       "       [0.8930548 , 0.9183257 , 0.847992  , ..., 0.8602903 , 0.7929835 ,\n",
       "        0.63578457]], dtype=float32)"
      ]
     },
     "execution_count": 71,
     "metadata": {},
     "output_type": "execute_result"
    }
   ],
   "source": [
    "entry.reshape(70,70)"
   ]
  },
  {
   "cell_type": "code",
   "execution_count": null,
   "id": "8a8dff33-f047-4df9-855e-98c46c3a657e",
   "metadata": {},
   "outputs": [],
   "source": []
  }
 ],
 "metadata": {
  "kernelspec": {
   "display_name": "Python 3 (ipykernel)",
   "language": "python",
   "name": "python3"
  },
  "language_info": {
   "codemirror_mode": {
    "name": "ipython",
    "version": 3
   },
   "file_extension": ".py",
   "mimetype": "text/x-python",
   "name": "python",
   "nbconvert_exporter": "python",
   "pygments_lexer": "ipython3",
   "version": "3.12.3"
  }
 },
 "nbformat": 4,
 "nbformat_minor": 5
}
